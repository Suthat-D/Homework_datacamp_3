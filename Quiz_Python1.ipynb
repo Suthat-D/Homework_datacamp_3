{
 "cells": [
  {
   "cell_type": "markdown",
   "metadata": {},
   "source": [
    "# Python Part1\n",
    "---"
   ]
  },
  {
   "cell_type": "markdown",
   "metadata": {},
   "source": [
    "# Quiz 1\n",
    "1. หาเศษเหลือจากการหาร 2345 ด้วย 13\n",
    "2. หาคำตอบจากการหาร 1567 ด้วย 17 ไม่เอาเศษส่วน\n",
    "3. FirstName กับ Firstname เป็นตัวแปรเดียวกันหรือไม่\n",
    "4. 13 Friday เป็นตัวแปรที่ถูกต้องหรือไม่\n",
    "5. จง print ผลลัพธ์จากข้อ 1,2 โดยใช้คำสั่ง format"
   ]
  },
  {
   "cell_type": "code",
   "execution_count": 34,
   "metadata": {},
   "outputs": [
    {
     "name": "stdout",
     "output_type": "stream",
     "text": [
      "5\n",
      "92\n",
      "ไม่ใช่ตัวแปรเดียวกัน\n",
      "ไม่ถูกต้อง\n",
      "Quiz 1.1 = 5 and Quiz 1.2 = 92\n"
     ]
    }
   ],
   "source": [
    "# Quiz 1.1 หาเศษเหลือจากการหาร 2345 ด้วย 13\n",
    "a = 2345 % 13 \n",
    "print(a)\n",
    "\n",
    "# Quiz 1.2 หาคำตอบจากการหาร 1567 ด้วย 17 ไม่เอาเศษส่วน\n",
    "b =  1567 // 17\n",
    "print(b)\n",
    "\n",
    "# Quiz 1.3 FirstName กับ Firstname เป็นตัวแปรเดียวกันหรือไม่\n",
    "print('ไม่ใช่ตัวแปรเดียวกัน')\n",
    "\n",
    "# Quiz 1.4 13Friday เป็นตัวแปรที่ถูกต้องหรือไม่\n",
    "print('ไม่ถูกต้อง')\n",
    "\n",
    "# Quiz 1.5 จง print ผลลัพธ์จากข้อ 1,2 โดยใช้คำสั่ง format\n",
    "print('Quiz 1.1 = {} and Quiz 1.2 = {}'.format(a,b))"
   ]
  },
  {
   "cell_type": "markdown",
   "metadata": {},
   "source": [
    "# Quiz 2 \n",
    "1. เขียนฟังชั่นไม่มีชื่อให้รับ parameter 1 ตัว และปริ้นค่านั้นหารด้วย3\n",
    "2. เขียนฟังชั่นธรรมดารับค่า 4 พารามิเตอร์ และหาค่าเฉลี่ย\n",
    "3. เขียนฟังชั่นไม่มีชื่อให้รับพารามิเตอร์ 3 ตัว และหาค่าเฉลี่ย"
   ]
  },
  {
   "cell_type": "code",
   "execution_count": 35,
   "metadata": {},
   "outputs": [
    {
     "name": "stdout",
     "output_type": "stream",
     "text": [
      "3.0\n",
      "7.0\n",
      "8.0\n"
     ]
    }
   ],
   "source": [
    "# Quiz 2.1\n",
    "func_a = lambda a : a/3\n",
    "print(func_a(9))\n",
    "\n",
    "# Quiz 2.2 \n",
    "def func_b (a,b,c,d):\n",
    "    mean = a+b+c+d/4\n",
    "    print(mean)\n",
    "func_b(1,2,3,4)\n",
    "    \n",
    "# Quiz 2.3 \n",
    "func_c = (lambda x,y,z : x+y+z/3)(2,4,6)\n",
    "print(func_c)"
   ]
  },
  {
   "cell_type": "markdown",
   "metadata": {},
   "source": [
    "# Quiz 3 \n",
    "1. สร้างลิสระบุชื่อ นามสกุล อายุ ตัวเอง\n",
    "2. ลบอายุออกจากลิสต์\n",
    "3. ลดอายุตัวเอง 10 ปีแทรกไว้หน้าสุดของลิสต์\n",
    "4. เพิ่มส่วนสูง น้ำหนักลงในลิสต์ โดยไปต่อท้าย\n",
    "5. print สมาชิกในลิสต์ตัวที่ 3 ถึงตัวสุดท้าย"
   ]
  },
  {
   "cell_type": "code",
   "execution_count": 36,
   "metadata": {},
   "outputs": [
    {
     "name": "stdout",
     "output_type": "stream",
     "text": [
      "['suthat', 'daochern', '24']\n",
      "['suthat', 'daochern']\n",
      "[14, 'suthat', 'daochern']\n",
      "[14, 'suthat', 'daochern', 158, 50]\n",
      "['daochern', 158, 50]\n"
     ]
    }
   ],
   "source": [
    "# Quiz 3.1\n",
    "My_profile = ['suthat' , 'daochern' , '24' ]\n",
    "print(My_profile)\n",
    "\n",
    "#Quiz 3.2\n",
    "del My_profile [2]\n",
    "print(My_profile)\n",
    "\n",
    "#Quiz 3.3\n",
    "My_profile.insert(0,14)\n",
    "print(My_profile)\n",
    "\n",
    "#Quiz 3.4 \n",
    "My_profile.append(158)\n",
    "My_profile.append(50)\n",
    "print(My_profile)\n",
    "\n",
    "#Quiz 3.5 \n",
    "print(My_profile[2:])"
   ]
  },
  {
   "cell_type": "markdown",
   "metadata": {},
   "source": [
    "# Quiz 4\n",
    "1. a = [[[1,3] , [3,4] ,[5 , [5,6] , [7,8]]] แล้ว a [1][1][1] คือค่าใด\n",
    "2. เขียนชื่อนามสกุลอายุอยู่ในลิสต์เดียว 4 คน แล้วใส่ไว้ใน Nested list และแสดงผล\n",
    "3. ลบคนสุดท้ายของลิสต์นั้นออกและแสดงผล\n",
    "4. เพิ่มคนที่ 5 เข้ามาเป็นคนแรกของ nested list และแสดงผล\n",
    "5. แก้ไขน้ำหนักคนที่สอง +10 และแสดงผล"
   ]
  },
  {
   "cell_type": "code",
   "execution_count": 37,
   "metadata": {},
   "outputs": [
    {
     "name": "stdout",
     "output_type": "stream",
     "text": [
      "6\n",
      "[['suthat', 'daochern', 24], ['somchai', 'rakchat', 22], ['somying', 'rakdee', 28], ['suchat', 'koko', 32]]\n",
      "[['suthat', 'daochern', 24], ['somchai', 'rakchat', 22], ['somying', 'rakdee', 28]]\n",
      "[['sommai', 'rakter', '25'], ['suthat', 'daochern', 24], ['somchai', 'rakchat', 22], ['somying', 'rakdee', 28]]\n",
      "[['sommai', 'rakter', '25'], ['suthat', 'daochern', 24, 'weight : 60'], ['somchai', 'rakchat', 22], ['somying', 'rakdee', 28]]\n"
     ]
    }
   ],
   "source": [
    "# Qiuz4.1\n",
    "a = [[[1,3] , [3,4]] ,[5 , [5,6] , [7,8]]]\n",
    "print(a[1][1][1])\n",
    "\n",
    "# Quiz4.2\n",
    "profile = [['suthat' , 'daochern' , 24] , ['somchai' , 'rakchat' , 22] , ['somying' , 'rakdee'  , 28] , ['suchat' , 'koko' , 32]]\n",
    "print(profile)\n",
    "\n",
    "#Quiz4.3\n",
    "del profile[3]\n",
    "print(profile)\n",
    "\n",
    "#Quiz4.4\n",
    "profile.insert(0,['sommai' , 'rakter' , '25'])\n",
    "print(profile)\n",
    "\n",
    "#Quiz4.5\n",
    "profile[1].append('weight : 60' )\n",
    "print(profile)"
   ]
  },
  {
   "cell_type": "markdown",
   "metadata": {},
   "source": [
    "# Quiz 5 \n",
    "1. กำหนดให้ lst = [1,2,3,4,5,6,7,8,9,10] จงเขียน Map เพื่อหาเลขยกกำลังสามทั้งหมดของ list ในรูปแบบ lambda function และ ฟังก์ชั่นธรรมดา\n",
    "2. กำหนดให้ lst = [1,2,3,4,5,6,7,8,9,10] จงเขียน filter เพื่อหาเลขใดใน list เมื่อยกกำลังสองแล้วหารสองไม่ลงตัวในรูปแบบ lambda function และฟังชั่นธรรมดา"
   ]
  },
  {
   "cell_type": "code",
   "execution_count": 41,
   "metadata": {},
   "outputs": [
    {
     "name": "stdout",
     "output_type": "stream",
     "text": [
      "[1, 8, 27, 64, 125, 216, 343, 512, 729, 1000]\n",
      "[1, 8, 27, 64, 125, 216, 343, 512, 729, 1000]\n",
      "[1, 3, 5, 7, 9]\n",
      "[1, 3, 5, 7, 9]\n"
     ]
    }
   ],
   "source": [
    "# Quiz 5.1\n",
    "#lambda version\n",
    "lst1 = [1,2,3,4,5,6,7,8,9,10] \n",
    "result_lambda = map(lambda x : x**3 , lst1)\n",
    "print(list(result_lambda))\n",
    "\n",
    "#Normal function version\n",
    "def func(a):\n",
    "    return a**3\n",
    "print(list(map(func , lst1)))\n",
    "\n",
    "#Quiz 5.2\n",
    "#lambda version\n",
    "lst2 = [1,2,3,4,5,6,7,8,9,10]\n",
    "result_lambda = filter(lambda x : ((x**2)%2 != 0) , lst2)\n",
    "print(list(result_lambda))\n",
    "\n",
    "#Normal function version\n",
    "def func2(x):\n",
    "    return (x**2)%2 != 0\n",
    "print(list(filter(func2,lst2)))"
   ]
  },
  {
   "cell_type": "markdown",
   "metadata": {},
   "source": [
    "# Quiz 6 \n",
    "1. กำหนดให้ lst = [1,2,3,4,5] จงเขียน list comprehension เพื่อนำทุกตัวใน lst ไปคูณกับ 2 และลบด้วย 1 พร้อมกับแสดงผล\n",
    "2. กำหนดให้ lst = [1,2,3,4,5,6,7,8,9,10,11,12,13] จงเขียน list comprehension เพื่อหาตัวที่หารด้วย 3 ไม่ลงตัว และนำผลลัพธ์นั้นยกกำลังสาม พร้อมกับแสดงผล"
   ]
  },
  {
   "cell_type": "code",
   "execution_count": 42,
   "metadata": {},
   "outputs": [
    {
     "name": "stdout",
     "output_type": "stream",
     "text": [
      "[1, 3, 5, 7, 9]\n",
      "[1, 8, 64, 125, 343, 512, 1000, 1331, 2197]\n"
     ]
    }
   ],
   "source": [
    "#Quiz 6.1\n",
    "lst1 = [1,2,3,4,5]\n",
    "lst_a = [(i*2) - 1 for i in lst1]\n",
    "print(lst_a)\n",
    "\n",
    "#Quiz 6.2\n",
    "lst2 = [1,2,3,4,5,6,7,8,9,10,11,12,13]\n",
    "lst_b = [ i**3 for i in lst2 if i%3 !=0]\n",
    "print(lst_b)"
   ]
  },
  {
   "cell_type": "markdown",
   "metadata": {},
   "source": [
    "# Quiz 7 \n",
    "1. จงเขียนโปรแกรมตรวจสอบคะแนนเด็กนักเรียน ถ้าเด็กได้คะแนนมากกว่า 80 เกรด A มากกว่า 70 เกรดB มากกว่า 60 เกรด C มากกว่า 50 เกรด D และต่ำกว่า 50 เกรด F"
   ]
  },
  {
   "cell_type": "code",
   "execution_count": 43,
   "metadata": {},
   "outputs": [
    {
     "name": "stdout",
     "output_type": "stream",
     "text": [
      "Grade B\n"
     ]
    }
   ],
   "source": [
    "score = 75 \n",
    "if score > 80 :\n",
    "    print(\"Grade A\")\n",
    "elif score > 70 :\n",
    "    print( \"Grade B\")\n",
    "elif  score > 60 :\n",
    "    print(\"Grade C\")\n",
    "else :\n",
    "    print(\"Grade F\")"
   ]
  },
  {
   "cell_type": "markdown",
   "metadata": {},
   "source": [
    "# Quiz 8\n",
    "1. กำนหนดให้ A = [1,2,3,4,5] และ B = [2,3,1,3,2] จงเขียน map แบบ multiple-list operations โดยให้ B ยกกำลังด้วย A พร้อมกับแสดงผล\n",
    "2. จงเขียนชื่อนักเรียน เลขที่ และคะแนนสอบไฟนอล พร้อมกับใช้คำสั่ง .zip() ในการจับคู่พร้อมกับแสดงผลลัพธ์ที่ถูกต้อง"
   ]
  },
  {
   "cell_type": "code",
   "execution_count": 44,
   "metadata": {},
   "outputs": [
    {
     "name": "stdout",
     "output_type": "stream",
     "text": [
      "[2, 9, 1, 81, 32]\n",
      "[('suthat', '3', '80'), ('somchai', '9', '65'), ('somying', '12', '75')]\n"
     ]
    }
   ],
   "source": [
    "#Quiz 8.1\n",
    "A = [1,2,3,4,5]\n",
    "B = [2,3,1,3,2]\n",
    "result = map(lambda a,b : b**a , A,B)\n",
    "print(list(result))\n",
    "\n",
    "#Quiz 8.2\n",
    "name = [\"suthat\" , \"somchai\" , \"somying\"]\n",
    "number = [ \"3\" , \"9\" , \"12\"]\n",
    "score = [\"80\" , \"65\" , \"75\"]\n",
    "student = list(zip(name , number , score))\n",
    "print(student)"
   ]
  },
  {
   "cell_type": "markdown",
   "metadata": {},
   "source": [
    "# Quiz 9 \n",
    "1. กำหนดให้ lst = [5,2,1,3,2] จงเขียนฟังก์ชั่น Reduce เพื่อหาผลลัพธ์สุดท้ายของดำเนินการแบบเลขยกกำลัง\n",
    "2. กำหนดให้ lst = [1,2,3,4,5,6,7,8,9,10] จงเขียนฟังก์ชั่น Reduce เพื่อหาผลลัพธ์สุดท้ายของดำเนินการแบบคูณ"
   ]
  },
  {
   "cell_type": "code",
   "execution_count": 45,
   "metadata": {},
   "outputs": [
    {
     "name": "stdout",
     "output_type": "stream",
     "text": [
      "244140625\n",
      "3628800\n"
     ]
    }
   ],
   "source": [
    " from functools import reduce\n",
    "#Quiz 8.1\n",
    "lst = [5,2,1,3,2]\n",
    "result = reduce((lambda a,b : a**b) , lst)\n",
    "print(result)\n",
    "\n",
    "#Quiz 8.2\n",
    "lst2 = [1,2,3,4,5,6,7,8,9,10]\n",
    "result2 = reduce((lambda a,b : a*b) , lst2)\n",
    "print(result2)"
   ]
  }
 ],
 "metadata": {
  "kernelspec": {
   "display_name": "Python 3",
   "language": "python",
   "name": "python3"
  },
  "language_info": {
   "codemirror_mode": {
    "name": "ipython",
    "version": 3
   },
   "file_extension": ".py",
   "mimetype": "text/x-python",
   "name": "python",
   "nbconvert_exporter": "python",
   "pygments_lexer": "ipython3",
   "version": "3.7.7"
  }
 },
 "nbformat": 4,
 "nbformat_minor": 4
}
