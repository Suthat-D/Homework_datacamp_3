{
 "cells": [
  {
   "cell_type": "markdown",
   "metadata": {},
   "source": [
    "# Python Part2\n",
    "---"
   ]
  },
  {
   "cell_type": "markdown",
   "metadata": {},
   "source": [
    "# Quiz 1\n",
    "1. เขียนโปรแกรมรับ input จากผู้ใช้ 1 ตัว แปลงให้เป็น int และตรวจสอบว่าเป็นเลขคู่หรือเลขคี่\n",
    "    - หากเป็นเลขคู่ ให้พิมพ์ว่า เลขคู่\n",
    "    - หากเป็นเลขที่ ให้พิมพ์ว่า เลขคี่\n",
    "    - หากเป็นเลข 0 ให้พิมพ์ว่า เลขศูนย์"
   ]
  },
  {
   "cell_type": "code",
   "execution_count": 1,
   "metadata": {},
   "outputs": [
    {
     "name": "stdin",
     "output_type": "stream",
     "text": [
      "กรุณาใส่หมายเลข :  1\n"
     ]
    },
    {
     "name": "stdout",
     "output_type": "stream",
     "text": [
      "เลขคี่\n"
     ]
    },
    {
     "name": "stdin",
     "output_type": "stream",
     "text": [
      "กรุณาใส่หมายเลข :  2\n"
     ]
    },
    {
     "name": "stdout",
     "output_type": "stream",
     "text": [
      "เลขคู่\n"
     ]
    },
    {
     "name": "stdin",
     "output_type": "stream",
     "text": [
      "กรุณาใส่หมายเลข :  99\n"
     ]
    },
    {
     "name": "stdout",
     "output_type": "stream",
     "text": [
      "เลขคี่\n"
     ]
    },
    {
     "name": "stdin",
     "output_type": "stream",
     "text": [
      "กรุณาใส่หมายเลข :  88\n"
     ]
    },
    {
     "name": "stdout",
     "output_type": "stream",
     "text": [
      "เลขคู่\n"
     ]
    },
    {
     "name": "stdin",
     "output_type": "stream",
     "text": [
      "กรุณาใส่หมายเลข :  -1\n"
     ]
    },
    {
     "name": "stdout",
     "output_type": "stream",
     "text": [
      "เลขคี่\n"
     ]
    },
    {
     "name": "stdin",
     "output_type": "stream",
     "text": [
      "กรุณาใส่หมายเลข :  -2\n"
     ]
    },
    {
     "name": "stdout",
     "output_type": "stream",
     "text": [
      "เลขคู่\n"
     ]
    },
    {
     "name": "stdin",
     "output_type": "stream",
     "text": [
      "กรุณาใส่หมายเลข :  -77\n"
     ]
    },
    {
     "name": "stdout",
     "output_type": "stream",
     "text": [
      "เลขคี่\n"
     ]
    },
    {
     "name": "stdin",
     "output_type": "stream",
     "text": [
      "กรุณาใส่หมายเลข :  0\n"
     ]
    },
    {
     "name": "stdout",
     "output_type": "stream",
     "text": [
      "เลขศูนย์\n"
     ]
    },
    {
     "name": "stdin",
     "output_type": "stream",
     "text": [
      "กรุณาใส่หมายเลข :  Exist\n"
     ]
    },
    {
     "name": "stdout",
     "output_type": "stream",
     "text": [
      "Eixst\n"
     ]
    }
   ],
   "source": [
    "#1. เขียนโปรแกรมรับ input จากผู้ใช้ 1 ตัว แปลงให้เป็น int และตรวจสอบว่าเป็นเลขคู่หรือเลขคี่\n",
    "    #- หากเป็นเลขคู่ ให้พิมพ์ว่า เลขคู่\n",
    "    #- หากเป็นเลขที่ ให้พิมพ์ว่า เลขคี่\n",
    "    #- หากเป็นเลข 0 ให้พิมพ์ว่า เลขศูนย์\n",
    "\n",
    "number = input(\"กรุณาใส่หมายเลข : \")\n",
    "while (number) != \"Exist\" :\n",
    "    number = int(number)\n",
    "    if number !=0 :\n",
    "        result = number%2\n",
    "        if result == 0 :\n",
    "            print(\"เลขคู่\")\n",
    "            number = input(\"กรุณาใส่หมายเลข : \")\n",
    "        elif result != 0 :\n",
    "            print(\"เลขคี่\")\n",
    "            number = input(\"กรุณาใส่หมายเลข : \")\n",
    "    elif number == 0 :\n",
    "        print(\"เลขศูนย์\")\n",
    "        number = input(\"กรุณาใส่หมายเลข : \")\n",
    "print(\"Eixst\")"
   ]
  },
  {
   "cell_type": "markdown",
   "metadata": {},
   "source": [
    "# Quiz 2\n",
    "2. เขียนโปรแกรมรับค่า input 2 ตัว ในรูปแบบ float โดยให้ตัวแรกเป็นตัวตั้ง ตัวที่สองเป็นตัวหาร\n",
    "    - หาผลลัพธ์ของการหาร\n",
    "    - ใส่เลขทศนิยมได้\n",
    "    - ถ้าตัวหารเป็น 0 ให้รับค่าใหม่จนกว่าจะเป็นเลขที่หารได้"
   ]
  },
  {
   "cell_type": "code",
   "execution_count": 3,
   "metadata": {},
   "outputs": [
    {
     "name": "stdin",
     "output_type": "stream",
     "text": [
      "กรุณาใส่ตัวตั้ง :  10\n",
      "กรุณาใส่ตัวหาร :  0\n"
     ]
    },
    {
     "name": "stdout",
     "output_type": "stream",
     "text": [
      "ไม่สามารถหารได้\n"
     ]
    },
    {
     "name": "stdin",
     "output_type": "stream",
     "text": [
      "กรุณาใส่ตัวหารอีกครั้ง :  2.5\n"
     ]
    },
    {
     "name": "stdout",
     "output_type": "stream",
     "text": [
      "4.0\n"
     ]
    }
   ],
   "source": [
    "number1 = float(input(\"กรุณาใส่ตัวตั้ง : \"))\n",
    "number2 = float(input(\"กรุณาใส่ตัวหาร : \"))\n",
    "if number2 != 0 :\n",
    "    result = number1/number2\n",
    "    print(result)\n",
    "elif number2 == 0 :\n",
    "    while number2 == 0 :\n",
    "        print(\"ไม่สามารถหารได้\")\n",
    "        number2 = float(input(\"กรุณาใส่ตัวหารอีกครั้ง : \"))\n",
    "        result = number1/number2\n",
    "    print(result)"
   ]
  },
  {
   "cell_type": "markdown",
   "metadata": {},
   "source": [
    "# Quiz 3\n",
    "3. เขียนโปรแกรม infinity while loop โดยรับค่า input มาเรื่อยๆ จนกว่าผู้ใช้จะใส่เลข 0 และนำเลขทั้งหมดมาหาค่าเฉลี่ย"
   ]
  },
  {
   "cell_type": "code",
   "execution_count": 4,
   "metadata": {},
   "outputs": [
    {
     "name": "stdin",
     "output_type": "stream",
     "text": [
      "กรุณาใส่ตัวเลข :  1\n",
      "กรุณาใส่ตัวเลข :  2\n",
      "กรุณาใส่ตัวเลข :  3\n",
      "กรุณาใส่ตัวเลข :  4\n",
      "กรุณาใส่ตัวเลข :  5\n",
      "กรุณาใส่ตัวเลข :  0\n"
     ]
    },
    {
     "name": "stdout",
     "output_type": "stream",
     "text": [
      "mean =  3.0\n"
     ]
    }
   ],
   "source": [
    "count = 0\n",
    "sum_num = 0\n",
    "number = 1 \n",
    "while number != 0 :\n",
    "    number =int(input(\"กรุณาใส่ตัวเลข : \"))\n",
    "    sum_num = sum_num + number\n",
    "    count += 1\n",
    "print(\"mean = \" , sum_num/(count-1))"
   ]
  },
  {
   "cell_type": "markdown",
   "metadata": {},
   "source": [
    "# Quiz 4\n",
    "4. เขียนโปรแกรมรับค่า input ที่เป็น integer มาหนึ่งตัว ตรวจสอบว่าเลขนั้นหาร 7 ลงตัวหรือไม่\n",
    "    - ถ้าหารลงตัว ให้ปริ้น \"หาร 7 ลงตัว\"\n",
    "    - ถ้าหารไม่ลงตัว ให้ปริ้น \"หาร 7 ไม่ลงตัว\""
   ]
  },
  {
   "cell_type": "code",
   "execution_count": 7,
   "metadata": {},
   "outputs": [
    {
     "name": "stdin",
     "output_type": "stream",
     "text": [
      "กรุณาใส่หมายเลข :  3\n"
     ]
    },
    {
     "name": "stdout",
     "output_type": "stream",
     "text": [
      "หาร 7 ไม่ลงตัว\n"
     ]
    },
    {
     "name": "stdin",
     "output_type": "stream",
     "text": [
      "กรุณาใส่หมายเลข :  7\n"
     ]
    },
    {
     "name": "stdout",
     "output_type": "stream",
     "text": [
      "หาร 7 ลงตัว\n"
     ]
    },
    {
     "name": "stdin",
     "output_type": "stream",
     "text": [
      "กรุณาใส่หมายเลข :  10\n"
     ]
    },
    {
     "name": "stdout",
     "output_type": "stream",
     "text": [
      "หาร 7 ไม่ลงตัว\n"
     ]
    },
    {
     "name": "stdin",
     "output_type": "stream",
     "text": [
      "กรุณาใส่หมายเลข :  14\n"
     ]
    },
    {
     "name": "stdout",
     "output_type": "stream",
     "text": [
      "หาร 7 ลงตัว\n"
     ]
    },
    {
     "name": "stdin",
     "output_type": "stream",
     "text": [
      "กรุณาใส่หมายเลข :  54\n"
     ]
    },
    {
     "name": "stdout",
     "output_type": "stream",
     "text": [
      "หาร 7 ไม่ลงตัว\n"
     ]
    },
    {
     "name": "stdin",
     "output_type": "stream",
     "text": [
      "กรุณาใส่หมายเลข :  56\n"
     ]
    },
    {
     "name": "stdout",
     "output_type": "stream",
     "text": [
      "หาร 7 ลงตัว\n"
     ]
    },
    {
     "name": "stdin",
     "output_type": "stream",
     "text": [
      "กรุณาใส่หมายเลข :  77\n"
     ]
    },
    {
     "name": "stdout",
     "output_type": "stream",
     "text": [
      "หาร 7 ลงตัว\n"
     ]
    },
    {
     "name": "stdin",
     "output_type": "stream",
     "text": [
      "กรุณาใส่หมายเลข :  Exist\n"
     ]
    },
    {
     "name": "stdout",
     "output_type": "stream",
     "text": [
      "Exist\n"
     ]
    }
   ],
   "source": [
    "number = input(\"กรุณาใส่หมายเลข : \")\n",
    "while number != \"Exist\" :\n",
    "    number = int(number)\n",
    "    result = number%7\n",
    "    if result == 0 :\n",
    "        print(\"หาร 7 ลงตัว\")\n",
    "        number = input(\"กรุณาใส่หมายเลข : \")\n",
    "    elif result != 0 :\n",
    "        print(\"หาร 7 ไม่ลงตัว\")\n",
    "        number = input(\"กรุณาใส่หมายเลข : \")\n",
    "print(\"Exist\")"
   ]
  },
  {
   "cell_type": "markdown",
   "metadata": {},
   "source": [
    "# Quiz 5\n",
    "5. เขียนโปรแกรมรับค่า int มา 3 จำนวน และตรวจสอบว่า 3 เลขนั้นสามารถนำมาสร้าง 3 เหลี่ยมมุมฉากได้หรือไม่"
   ]
  },
  {
   "cell_type": "code",
   "execution_count": 3,
   "metadata": {},
   "outputs": [
    {
     "name": "stdin",
     "output_type": "stream",
     "text": [
      "กรุณาใส่หมายเลข 5\n",
      "กรุณาใส่หมายเลข 3\n",
      "กรุณาใส่หมายเลข 4\n"
     ]
    },
    {
     "name": "stdout",
     "output_type": "stream",
     "text": [
      "สามารถสร้างสามเหลี่ยมมุมฉากได้\n"
     ]
    }
   ],
   "source": [
    "a = int(input(\"กรุณาใส่หมายเลข\"))\n",
    "b = int(input(\"กรุณาใส่หมายเลข\"))\n",
    "c = int(input(\"กรุณาใส่หมายเลข\"))\n",
    "if a**2 == b**2 + c**2 or b**2 == a**2 + c**2 or c**2 == a**2+b**2:\n",
    "    print(\"สามารถสร้างสามเหลี่ยมมุมฉากได้\")\n",
    "else :\n",
    "    print(\"ไม่สามารถสร้างสามเหลี่ยมมุมฉากได้\")"
   ]
  },
  {
   "cell_type": "markdown",
   "metadata": {},
   "source": [
    "# Quiz 6\n",
    "6. เขียนโปรแกรมรับค่า int มา 3 จำนวน และตรวจสอบว่าเมื่อนำ 3 เลขนั้นมาสร้าง 3 เหลี่ยม จะได้สามเหลี่ยมแบบใด\n",
    "    - สามเหลี่ยมมุมแหลม\n",
    "    - สามเหลี่ยมมุมป้าน \n",
    "    - สามเหลี่ยมมุมฉาก"
   ]
  },
  {
   "cell_type": "code",
   "execution_count": 6,
   "metadata": {},
   "outputs": [
    {
     "name": "stdin",
     "output_type": "stream",
     "text": [
      "กรุณาใส่หมายเลข 12\n",
      "กรุณาใส่หมายเลข 15\n",
      "กรุณาใส่หมายเลข 19\n"
     ]
    },
    {
     "name": "stdout",
     "output_type": "stream",
     "text": [
      "สามารถสร้างสามเหลี่ยมมุมแหลมได้\n"
     ]
    }
   ],
   "source": [
    "a = int(input(\"กรุณาใส่หมายเลข\"))\n",
    "b = int(input(\"กรุณาใส่หมายเลข\"))\n",
    "c = int(input(\"กรุณาใส่หมายเลข\"))\n",
    "if a**2 == b**2 + c**2 or b**2 == a**2 + c**2 or c**2 == a**2+b**2:\n",
    "    print(\"สามารถสร้างสามเหลี่ยมมุมฉากได้\")\n",
    "elif a**2 > b**2 + c**2 or b**2 > a**2 + c**2 or c>2 == a**2+b**2:\n",
    "    print(\"สามารถสร้างสามเหลี่ยมมุมป้านได้\")\n",
    "else : \n",
    "    print(\"สามารถสร้างสามเหลี่ยมมุมแหลมได้\")"
   ]
  },
  {
   "cell_type": "markdown",
   "metadata": {},
   "source": [
    "# Quiz 7\n",
    "7. เขียนโปรแกรมให้รับค่าอาหาร 3 ครั้งที่ไปทานอาหารนอกบ้านล่าสุด โดยแต่ละครั้งต้องไม่ต่ำกว่า 1,000 และไม่เกิน 5,000 (ผู้ใช้ต้องใส่อยู่ในช่วงนี้) และนำค่าอาหารทั้ง 3 ครั้งมาบวกกัน หากเกิน 6,000 บาท จะได้รับส่วนลด 15% หากเกิน 12,000 จะได้รับส่วนลด 25% จงหายอดเงินสุดท้ายที่จะต้องจ่าย"
   ]
  },
  {
   "cell_type": "code",
   "execution_count": 8,
   "metadata": {},
   "outputs": [
    {
     "name": "stdin",
     "output_type": "stream",
     "text": [
      "กรุณาใส่ค่าอาหารครั้งแรก :  4000\n",
      "กรุณาใส่ค่าอาหารครั้งที่สอง :  2000\n",
      "กรุณาใส่ค่าอาหารครั้งที่สาม :  1500\n"
     ]
    },
    {
     "name": "stdout",
     "output_type": "stream",
     "text": [
      "ได้รับส่วนลด 15%\n",
      "ค่าอาหารเท่ากับ 6375.0\n"
     ]
    }
   ],
   "source": [
    "first_time = int(input(\"กรุณาใส่ค่าอาหารครั้งแรก : \"))\n",
    "second_time = int(input(\"กรุณาใส่ค่าอาหารครั้งที่สอง : \"))\n",
    "third_time = int(input(\"กรุณาใส่ค่าอาหารครั้งที่สาม : \"))\n",
    "total = first_time + second_time + third_time\n",
    "if total > 12000 :\n",
    "    total = total * 0.75\n",
    "    print('ได้รับส่วนลด 25%')\n",
    "    print(\"ค่าอาหารเท่ากับ\" , total)\n",
    "elif total > 6000 :\n",
    "    total = total * 0.85\n",
    "    print('ได้รับส่วนลด 15%')\n",
    "    print(\"ค่าอาหารเท่ากับ\" , total)\n",
    "else :\n",
    "    print(\"ค่าอาหารเท่ากับ\" , total)"
   ]
  },
  {
   "cell_type": "markdown",
   "metadata": {},
   "source": [
    "# Quiz 8\n",
    "8. เขียนโปรแกรมให้รับค่าอาหาร 4 ครั้งที่ไปทานอาหารนอกบ้านล่าสุด โดยแต่ละครั้งต้องไม่ต่ำกว่า 1,000 และไม่เกิน 5,000 (ผู้ใช้ต้องใส่อยู่ในช่วงนี้) และนำค่าอาหารทั้ง 3 ครั้งแรกมาบวกกัน หากเกิน 6,000 บาท จะได้รับส่วนลด 15% หากเกิน 12,000 จะได้รับส่วนลด 25% ของมื้อที่ 4 จงหายอดเงินสุดท้ายที่จะต้องจ่ายของมื้อที่ 4 "
   ]
  },
  {
   "cell_type": "code",
   "execution_count": 9,
   "metadata": {},
   "outputs": [
    {
     "name": "stdin",
     "output_type": "stream",
     "text": [
      "กรุณาใส่ค่าอาหารครั้งแรก :  5000\n",
      "กรุณาใส่ค่าอาหารครั้งที่สอง :  4000\n",
      "กรุณาใส่ค่าอาหารครั้งที่สาม :  4000\n",
      "กรุณาใส่ค่าอาหารครั้งที่สี่ :  3000\n"
     ]
    },
    {
     "name": "stdout",
     "output_type": "stream",
     "text": [
      "ได้รับส่วนลด 25%\n",
      "ค่าอาหารมื้อที่ 4 เท่ากับ 2250.0\n"
     ]
    }
   ],
   "source": [
    "first_time = int(input(\"กรุณาใส่ค่าอาหารครั้งแรก : \"))\n",
    "second_time = int(input(\"กรุณาใส่ค่าอาหารครั้งที่สอง : \"))\n",
    "third_time = int(input(\"กรุณาใส่ค่าอาหารครั้งที่สาม : \"))\n",
    "fourth_time = int(input(\"กรุณาใส่ค่าอาหารครั้งที่สี่ : \"))\n",
    "total = first_time + second_time + third_time\n",
    "if total > 12000 :\n",
    "    fourth_time = fourth_time *  0.75\n",
    "    print('ได้รับส่วนลด 25%')\n",
    "    print(\"ค่าอาหารมื้อที่ 4 เท่ากับ\" , fourth_time)\n",
    "elif total > 6000 :\n",
    "    fourth_time = fourth_time *  0.85\n",
    "    print('ได้รับส่วนลด 15%')\n",
    "    print(\"ค่าอาหารมื้อที่ 4 เท่ากับ\" , fourth_time)\n",
    "else :\n",
    "    print(\"ค่าอาหารมื้อที่ 4 เท่ากับ\" , fourth_time)"
   ]
  },
  {
   "cell_type": "markdown",
   "metadata": {},
   "source": [
    "# Quiz 9\n",
    "9. เขียนโปรแกรมให้รับค่าอาหาร 4 ครั้งที่ไปทานอาหารนอกบ้านล่าสุด โดยแต่ละครั้งต้องไม่ต่ำกว่า 1,000 และไม่เกิน 5,000 (เขียนให้ผู้ใช้ใส่ใหม่หากไม่อยู่ในช่วงที่กำหนด) และนำค่าอาหารทั้ง 3 ครั้งแรกมาบวกกัน หากเกิน 4,000 บาท จะได้รับส่วนลด 25% หากเกิน 9,000 จะได้รับส่วนลด 30% ของมื้อที่ 4  จงหายอดเงินสุดท้ายที่จะต้องจ่ายของมื้อที่ 4 "
   ]
  },
  {
   "cell_type": "code",
   "execution_count": 11,
   "metadata": {},
   "outputs": [
    {
     "name": "stdin",
     "output_type": "stream",
     "text": [
      "กรุณาใส่ค่าอาหารครั้งแรก :  500\n",
      "กรุณาใส่ค่าอาหารครั้งแรกใหม่ :  4000\n",
      "กรุณาใส่ค่าอาหารครั้งที่สอง :  3000\n",
      "กรุณาใส่ค่าอาหารครั้งที่สาม :  7000\n",
      "กรุณาใส่ค่าอาหารครั้งที่สามใหม่ :  3500\n",
      "กรุณาใส่ค่าอาหารครั้งที่สี่ :  4500\n"
     ]
    },
    {
     "name": "stdout",
     "output_type": "stream",
     "text": [
      "ได้รับส่วนลด 15%\n",
      "ค่าอาหารมื้อที่ 4 เท่ากับ 3825.0\n"
     ]
    }
   ],
   "source": [
    "first_time = int(input(\"กรุณาใส่ค่าอาหารครั้งแรก : \"))\n",
    "while first_time < 1000 or first_time >5000 :\n",
    "    first_time = int(input(\"กรุณาใส่ค่าอาหารครั้งแรกใหม่ : \"))\n",
    "    \n",
    "second_time = int(input(\"กรุณาใส่ค่าอาหารครั้งที่สอง : \"))\n",
    "while second_time < 1000 or second_time > 5000 :\n",
    "    second_time = int(input(\"กรุณาใส่ค่าอาหารครั้งที่สองใหม่ : \"))\n",
    "    \n",
    "third_time = int(input(\"กรุณาใส่ค่าอาหารครั้งที่สาม : \"))\n",
    "while third_time < 1000 or third_time > 5000 :\n",
    "    third_time = int(input(\"กรุณาใส่ค่าอาหารครั้งที่สามใหม่ : \"))\n",
    "    \n",
    "fourth_time = int(input(\"กรุณาใส่ค่าอาหารครั้งที่สี่ : \"))\n",
    "while fourth_time < 1000 or fourth_time > 5000 :\n",
    "    fourth_time = int(input(\"กรุณาใส่ค่าอาหารครั้งที่สี่ใหม่ : \"))\n",
    "\n",
    "total = first_time + second_time + third_time\n",
    "\n",
    "if total > 12000 :\n",
    "    fourth_time = fourth_time *  0.75\n",
    "    print('ได้รับส่วนลด 25%')\n",
    "    print(\"ค่าอาหารมื้อที่ 4 เท่ากับ\" , fourth_time)\n",
    "elif total > 6000 :\n",
    "    fourth_time = fourth_time *  0.85\n",
    "    print('ได้รับส่วนลด 15%')\n",
    "    print(\"ค่าอาหารมื้อที่ 4 เท่ากับ\" , fourth_time)\n",
    "else :\n",
    "    print(\"ค่าอาหารมื้อที่ 4 เท่ากับ\" , fourth_time)"
   ]
  },
  {
   "cell_type": "markdown",
   "metadata": {},
   "source": [
    "# Quiz 10\n",
    "10. เขียนโปรแกรมให้รับค่าอาหาร 4 ครั้งที่ไปทานอาหารนอกบ้านล่าสุด โดยแต่ละครั้งต้องไม่ต่ำกว่า 1,000 และไม่เกิน 5,000 (เขียนให้ผู้ใช้ใส่ใหม่หากไม่อยู่ในช่วงที่กำหนด) และถ้าผู้ใช้มีบัตรเครดิตหรือไม่(True/Flase) นำค่าอาหารทั้ง 3 ครั้งแรกมาบวกกัน หากเกิน 4,000 บาท จะได้รับส่วนลด 25% หากเกิน 9,000 จะได้รับส่วนลด 30% ของมื้อที่ 4  หากมีบัตรเครดิต ลดเพิ่มอีก 5% จงหายอดเงินสุดท้ายที่จะต้องจ่ายของมื้อที่ 4 "
   ]
  },
  {
   "cell_type": "code",
   "execution_count": 12,
   "metadata": {},
   "outputs": [
    {
     "name": "stdin",
     "output_type": "stream",
     "text": [
      "กรุณาใส่ค่าอาหารครั้งแรก :  5000\n",
      "กรุณาใส่ค่าอาหารครั้งที่สอง :  4000\n",
      "กรุณาใส่ค่าอาหารครั้งที่สาม :  3000\n",
      "กรุณาใส่ค่าอาหารครั้งที่สี่ :  5000\n"
     ]
    },
    {
     "name": "stdout",
     "output_type": "stream",
     "text": [
      "ได้รับส่วนลด 30%\n"
     ]
    },
    {
     "name": "stdin",
     "output_type": "stream",
     "text": [
      "คุณมีบัตรเครดิตหรือไม่ : มี\n"
     ]
    },
    {
     "name": "stdout",
     "output_type": "stream",
     "text": [
      "ได้รับส่วนลดเพิ่ม 5%\n",
      "ค่าอาหารมื้อที่ 4 เท่ากับ 3325.0\n"
     ]
    }
   ],
   "source": [
    "first_time = int(input(\"กรุณาใส่ค่าอาหารครั้งแรก : \"))\n",
    "while first_time < 1000 or first_time >5000 :\n",
    "    first_time = int(input(\"กรุณาใส่ค่าอาหารครั้งแรกใหม่ : \"))\n",
    "    \n",
    "second_time = int(input(\"กรุณาใส่ค่าอาหารครั้งที่สอง : \"))\n",
    "while second_time < 1000 or second_time > 5000 :\n",
    "    second_time = int(input(\"กรุณาใส่ค่าอาหารครั้งที่สองใหม่ : \"))\n",
    "    \n",
    "third_time = int(input(\"กรุณาใส่ค่าอาหารครั้งที่สาม : \"))\n",
    "while third_time < 1000 or third_time > 5000 :\n",
    "    third_time = int(input(\"กรุณาใส่ค่าอาหารครั้งที่สามใหม่ : \"))\n",
    "    \n",
    "fourth_time = int(input(\"กรุณาใส่ค่าอาหารครั้งที่สี่ : \"))\n",
    "while fourth_time < 1000 or fourth_time > 5000 :\n",
    "    fourth_time = int(input(\"กรุณาใส่ค่าอาหารครั้งที่สี่ใหม่ : \"))\n",
    "\n",
    "total = first_time + second_time + third_time\n",
    "\n",
    "if total > 9000 :\n",
    "    fourth_time = fourth_time *  0.7\n",
    "    print('ได้รับส่วนลด 30%')\n",
    "elif total > 4000 :\n",
    "    fourth_time = fourth_time *  0.75\n",
    "    print('ได้รับส่วนลดเพิ่ม 25%')\n",
    "    \n",
    "credit_card = input(\"คุณมีบัตรเครดิตหรือไม่ :\")\n",
    "if credit_card == \"มี\" :\n",
    "    print('ได้รับส่วนลดเพิ่ม 5%')\n",
    "    print('ค่าอาหารมื้อที่ 4 เท่ากับ' , fourth_time * 0.95)\n",
    "elif credit_card == \"ไม่มี\" :\n",
    "    print(\"ค่าอาหารมื้อที่ 4 เท่ากับ\" , fourth_time)\n",
    "else:\n",
    "    print(\"Eror\")"
   ]
  },
  {
   "cell_type": "markdown",
   "metadata": {},
   "source": [
    "# Quiz 11\n",
    "11. จงเขียนโปรแกรมรับ input ที่เป็นประโยคแบบ string ที่มีความยาวของคำไม่ต่ำกว่า 7 ตัวอักษรภาษาอังกฤษ(สมมติว่าเป็นคำเดียว) และมีพิมพ์ใหญ่ พิมพ์เล็กปนกันไป จากนั้นให้ตรวจสอบแต่ละอักษร ให้แปลงพิมพ์ใหญ่เป็นพิมพ์เล็ก และ พิมพ์เล็กเป็นพิมพ์ใหญ่พร้อมกับปริ้นออกมา"
   ]
  },
  {
   "cell_type": "code",
   "execution_count": 15,
   "metadata": {},
   "outputs": [
    {
     "name": "stdin",
     "output_type": "stream",
     "text": [
      " CoMpRehENtioN\n"
     ]
    },
    {
     "name": "stdout",
     "output_type": "stream",
     "text": [
      "cOmPrEHenTIOn"
     ]
    }
   ],
   "source": [
    "word = input()\n",
    "for i in word :\n",
    "    if i.isupper() is True:\n",
    "        print(i.lower() , end=\"\") \n",
    "    else:\n",
    "        print(i.upper() , end = \"\")"
   ]
  },
  {
   "cell_type": "markdown",
   "metadata": {},
   "source": [
    "# Quiz 12\n",
    "12. เขียนโปรแกรมรับ input 4 ตัวที่เป็น string จากนั้นตรวจสอบว่า input ใด มีความยาวมากที่สุด รองลงมา และน้อยที่สุด จากนั้น ปริ้นแต่ละ input ออกมาตามลำดับน้อยสุดไปมากสุด    "
   ]
  },
  {
   "cell_type": "code",
   "execution_count": 2,
   "metadata": {},
   "outputs": [
    {
     "name": "stdin",
     "output_type": "stream",
     "text": [
      " Hello\n",
      " Hi\n",
      " Hey\n",
      " GoodMorning\n"
     ]
    },
    {
     "name": "stdout",
     "output_type": "stream",
     "text": [
      "Hi\n",
      "Hey\n",
      "Hello\n",
      "GoodMorning\n"
     ]
    }
   ],
   "source": [
    "word1 = input()\n",
    "word2 = input()\n",
    "word3 = input()\n",
    "word4 = input()\n",
    "\n",
    "list1 = [(word1) , (word2) , (word3) , (word4)]\n",
    "list1.sort( key= len )\n",
    "for i in list1 :\n",
    "    print(i)"
   ]
  },
  {
   "cell_type": "markdown",
   "metadata": {},
   "source": [
    "# Quiz 13\n",
    "13. เขียนโปรแกรมรับ input สองตัวเป็นจำนวนเต็มระหว่าง 0-60 โดยตัวแรกเป็นชั่วโมงและตัวที่สองเป็นนาที คำนวณค่าที่จอดรถถ้าชั่วโมงละ 150 บาท เศษนาทีคิดเป็นนาทีละ 2 บาท"
   ]
  },
  {
   "cell_type": "code",
   "execution_count": 7,
   "metadata": {},
   "outputs": [
    {
     "name": "stdin",
     "output_type": "stream",
     "text": [
      "กรุณาใส่ชั่วโมง 2\n",
      "กรุณาใส่นาที 30\n"
     ]
    },
    {
     "name": "stdout",
     "output_type": "stream",
     "text": [
      "ค่าจอดรถเท่ากับ :  360 บาท\n"
     ]
    }
   ],
   "source": [
    "hour = int(input(\"กรุณาใส่ชั่วโมง\"))\n",
    "minute = int(input(\"กรุณาใส่นาที\"))\n",
    "if hour > 1 :\n",
    "    hour = hour * 150\n",
    "    minute = minute * 2 \n",
    "    fee = hour + minute\n",
    "    print(\"ค่าจอดรถเท่ากับ : \" , fee , \"บาท\")"
   ]
  },
  {
   "cell_type": "markdown",
   "metadata": {},
   "source": [
    "# Quiz 14\n",
    "14. เขียนโปรแกรมรับ input สองตัวเป็นจำนวนเต็มระหว่าง 0-60 โดยตัวแรกเป็นชั่วโมงและตัวที่สองเป็นนาที คำนวณค่าที่จอดรถถ้าชั่วโมงละ 300 บาท เศษนาทีคิดเป็นนาทีเกิน 15 นาที คิดเป็น 1 ชั่วโมงหากไม่เกินไม่คิดเงิน และชั่วโมงแรกจอดฟรี"
   ]
  },
  {
   "cell_type": "code",
   "execution_count": 9,
   "metadata": {},
   "outputs": [
    {
     "name": "stdin",
     "output_type": "stream",
     "text": [
      "กรุณาใส่ชั่วโมง 2\n",
      "กรุณาใส่นาที 30\n"
     ]
    },
    {
     "name": "stdout",
     "output_type": "stream",
     "text": [
      " ค่าจัดรถเท่ากับ :  900 บาท\n"
     ]
    }
   ],
   "source": [
    "hour = int(input(\"กรุณาใส่ชั่วโมง\"))\n",
    "minute = int(input(\"กรุณาใส่นาที\"))\n",
    "if hour > 1 :\n",
    "    hour = hour * 300\n",
    "    if minute > 15 :\n",
    "        fee = hour + 300\n",
    "        print(\" ค่าจัดรถเท่ากับ : \" ,fee , \"บาท\")\n",
    "    else :\n",
    "        print(\"ค่าจอดรถเท่ากับ : \" , hour , \"บาท\" )\n",
    "else:\n",
    "    print('จอดฟรี')"
   ]
  },
  {
   "cell_type": "markdown",
   "metadata": {},
   "source": [
    "# Quiz 15\n",
    "15. โรงละครสัตว์มี นก กับ วัว และต้องจ่ายภาษีสัตว์ 2 ขา 150 บาทต่อตัว จ่ายภาษีสัตว์ 4 ขา 220 บาทต่อตัว เขียนโปรแกรมรับค่า input สองตัว ตัวแรกเป็นผลรวมจำนวนหัวของสัตว์ ตัวสองเป็นผลรวมจำนวนขาของสัตว์ จงหาว่าโรงละครสัตว์ต้องจ่ายภาษีเท่าใด"
   ]
  },
  {
   "cell_type": "code",
   "execution_count": 10,
   "metadata": {},
   "outputs": [
    {
     "name": "stdin",
     "output_type": "stream",
     "text": [
      "กรุณาใส่ผลรวมของหัวสัตว์ 9\n",
      "กรุณาใส่ผลรวมของขาสัตว์ 28\n"
     ]
    },
    {
     "name": "stdout",
     "output_type": "stream",
     "text": [
      "ค่าภาษีเท่ากับ :  1700.0 บาท\n"
     ]
    }
   ],
   "source": [
    "sum_head = int(input(\"กรุณาใส่ผลรวมของหัวสัตว์\"))\n",
    "sum_leg = int(input(\"กรุณาใส่ผลรวมของขาสัตว์\"))\n",
    "def vat (sum_head , sum_leg) :\n",
    "    cow = (sum_leg / 2) - sum_head   \n",
    "    bird = sum_head - cow\n",
    "    vat = (cow * 220) + (bird * 150)\n",
    "    print(\"ค่าภาษีเท่ากับ : \" , vat , \"บาท\")\n",
    "\n",
    "vat(sum_head , sum_leg)"
   ]
  }
 ],
 "metadata": {
  "kernelspec": {
   "display_name": "Python 3",
   "language": "python",
   "name": "python3"
  },
  "language_info": {
   "codemirror_mode": {
    "name": "ipython",
    "version": 3
   },
   "file_extension": ".py",
   "mimetype": "text/x-python",
   "name": "python",
   "nbconvert_exporter": "python",
   "pygments_lexer": "ipython3",
   "version": "3.7.7"
  }
 },
 "nbformat": 4,
 "nbformat_minor": 4
}
